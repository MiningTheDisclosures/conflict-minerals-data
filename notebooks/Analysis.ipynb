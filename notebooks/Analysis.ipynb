{
 "cells": [
  {
   "cell_type": "markdown",
   "metadata": {},
   "source": [
    "Companies that had a 2016 entry, but not a 2017 entry"
   ]
  },
  {
   "cell_type": "code",
   "execution_count": 9,
   "metadata": {},
   "outputs": [
    {
     "name": "stdout",
     "output_type": "stream",
     "text": [
      "ALCATEL LUCENT (0000886125)\n",
      "EMC CORP (0000790070)\n",
      "FMC TECHNOLOGIES INC (0001135152)\n",
      "HARMAN INTERNATIONAL INDUSTRIES INC /DE/ (0000800459)\n",
      "JOHNSON CONTROLS INC (0000053669)\n",
      "ST JUDE MEDICAL, LLC (0000203077)\n",
      "WAL MART STORES INC (0000104169)\n"
     ]
    }
   ],
   "source": [
    "for company in EdgarCompanyInfo.objects.all().order_by('conformed_name'):\n",
    "    _2016 = EdgarSDFiling.objects.filter(company=company, date__year=2016)\n",
    "    if _2016.count() > 0:\n",
    "        _2017 = EdgarSDFiling.objects.filter(company=company, date__year=2017)\n",
    "        if _2017.count() == 0:\n",
    "            print(company.conformed_name, '({0})'.format(company.cik))"
   ]
  },
  {
   "cell_type": "markdown",
   "metadata": {},
   "source": [
    "Alcatel was bought by Nokia. Haven't researched others."
   ]
  },
  {
   "cell_type": "markdown",
   "metadata": {},
   "source": [
    "----\n",
    "Companies with less than four entries"
   ]
  },
  {
   "cell_type": "code",
   "execution_count": 8,
   "metadata": {},
   "outputs": [
    {
     "name": "stdout",
     "output_type": "stream",
     "text": [
      "ALCATEL LUCENT (0000886125)\n",
      "Avago Technologies LTD (0001441634)\n",
      "CAMERON INTERNATIONAL CORP (0000941548)\n",
      "CHESAPEAKE ENERGY CORP (0000895126)\n",
      "EMC CORP (0000790070)\n",
      "FMC TECHNOLOGIES INC (0001135152)\n",
      "HARMAN INTERNATIONAL INDUSTRIES INC /DE/ (0000800459)\n",
      "JARDEN CORP (0000895655)\n",
      "JOHNSON CONTROLS INC (0000053669)\n",
      "Medtronic plc (0001613103)\n",
      "Palo Alto Networks Inc (0001327567)\n",
      "Philip Morris International Inc. (0001413329)\n",
      "SANDISK CORP (0001000180)\n",
      "ST JUDE MEDICAL, LLC (0000203077)\n",
      "VERIZON COMMUNICATIONS INC (0000732712)\n",
      "WAL MART STORES INC (0000104169)\n",
      "Weatherford International plc (0001603923)\n"
     ]
    }
   ],
   "source": [
    "for company in EdgarCompanyInfo.objects.all().order_by('conformed_name'):\n",
    "    if EdgarSDFiling.objects.filter(company=company).count() < 4:\n",
    "        print(company.conformed_name, '({0})'.format(company.cik))"
   ]
  },
  {
   "cell_type": "code",
   "execution_count": null,
   "metadata": {
    "collapsed": true
   },
   "outputs": [],
   "source": []
  }
 ],
 "metadata": {
  "kernelspec": {
   "display_name": "Django Shell-Plus",
   "language": "python",
   "name": "django_extensions"
  },
  "language_info": {
   "codemirror_mode": {
    "name": "ipython",
    "version": 3
   },
   "file_extension": ".py",
   "mimetype": "text/x-python",
   "name": "python",
   "nbconvert_exporter": "python",
   "pygments_lexer": "ipython3",
   "version": "3.6.1"
  }
 },
 "nbformat": 4,
 "nbformat_minor": 2
}
