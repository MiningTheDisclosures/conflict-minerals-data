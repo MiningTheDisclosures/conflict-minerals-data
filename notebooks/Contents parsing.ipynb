{
 "cells": [
  {
   "cell_type": "code",
   "execution_count": 1,
   "metadata": {
    "collapsed": true
   },
   "outputs": [],
   "source": [
    "filing = EdgarSDFiling.objects.get(pk=711)\n",
    "docs = filing.edgarsdfilingdocument_set.all()"
   ]
  },
  {
   "cell_type": "code",
   "execution_count": 2,
   "metadata": {},
   "outputs": [
    {
     "data": {
      "text/plain": [
       "'Complete submission text file'"
      ]
     },
     "execution_count": 2,
     "metadata": {},
     "output_type": "execute_result"
    }
   ],
   "source": [
    "doc_a = docs[0]\n",
    "content_a = doc_a.edgardocumentcontent_set.get()\n",
    "doc_a.description"
   ]
  },
  {
   "cell_type": "code",
   "execution_count": 3,
   "metadata": {},
   "outputs": [
    {
     "data": {
      "text/plain": [
       "'SD'"
      ]
     },
     "execution_count": 3,
     "metadata": {},
     "output_type": "execute_result"
    }
   ],
   "source": [
    "doc_b = docs[4]\n",
    "content_b = doc_b.edgardocumentcontent_set.get()\n",
    "doc_b.description"
   ]
  },
  {
   "cell_type": "code",
   "execution_count": 4,
   "metadata": {},
   "outputs": [
    {
     "data": {
      "text/plain": [
       "'<SEC-DOCUMENT>0001104659-17-036452.txt : 20170531\\n<SEC-HEADER>0001104659-17-036452.hdr.sgml : 20170531\\n<ACCEPTANCE-DATETIME>20170531113151\\nACCESSION NUMBER:\\t\\t0001104659-17-036452\\nCONFORMED SUBMISSION '"
      ]
     },
     "execution_count": 4,
     "metadata": {},
     "output_type": "execute_result"
    }
   ],
   "source": [
    "content_a.content[0:200]"
   ]
  },
  {
   "cell_type": "code",
   "execution_count": 5,
   "metadata": {},
   "outputs": [
    {
     "data": {
      "text/plain": [
       "'<DOCUMENT>\\n<TYPE>SD\\n<SEQUENCE>1\\n<FILENAME>a17-14316_1sd.htm\\n<DESCRIPTION>SD\\n<TEXT>\\n\\n\\n<html>\\n<head>\\n\\n\\n\\n\\n  </head>\\n<body link=blue lang=\"EN-US\">\\n<div style=\"font-family:Times New Roman;\">\\n<div style=\"bo'"
      ]
     },
     "execution_count": 5,
     "metadata": {},
     "output_type": "execute_result"
    }
   ],
   "source": [
    "content_b.content[0:200]"
   ]
  },
  {
   "cell_type": "code",
   "execution_count": 98,
   "metadata": {
    "collapsed": true
   },
   "outputs": [],
   "source": [
    "import toolz\n",
    "from urlextract import URLExtract\n",
    "extractor = URLExtract()"
   ]
  },
  {
   "cell_type": "code",
   "execution_count": 7,
   "metadata": {
    "scrolled": false
   },
   "outputs": [
    {
     "name": "stdout",
     "output_type": "stream",
     "text": [
      "1012\n",
      "1013\n",
      "1014\n",
      "['http://www.3m.com/3M/en_US/suppliers-direct/supplier-requirements/supplier-responsibility-expectations/&#160', 'http://www.3m.com/3M/en_US/suppliers-direct/supplier-requirements/supplier-responsibility-expectations/', 'http://www.3m.com/3M/en_US/suppliers-direct/supplier-requirements/supplier-responsibility-expectations/).']\n"
     ]
    }
   ],
   "source": [
    "all_urls = []\n",
    "for doc in docs:\n",
    "    try:\n",
    "        # Get the doc content\n",
    "        doc_content = doc.edgardocumentcontent_set.get()\n",
    "    except EdgarDocumentContent.DoesNotExist:\n",
    "        continue\n",
    "    content = doc_content.content\n",
    "    if content:\n",
    "        print(doc_content.id)\n",
    "        urls = extractor.find_urls(content)\n",
    "        if urls:\n",
    "            all_urls.extend(urls)\n",
    "unique_urls = toolz.unique(all_urls)\n",
    "print(list(unique_urls))"
   ]
  },
  {
   "cell_type": "code",
   "execution_count": 8,
   "metadata": {},
   "outputs": [
    {
     "name": "stdout",
     "output_type": "stream",
     "text": [
      "4029\n",
      "4028\n",
      "4027\n",
      "4026\n",
      "4025\n"
     ]
    }
   ],
   "source": [
    "for doc in docs:\n",
    "    print(doc.id)"
   ]
  },
  {
   "cell_type": "code",
   "execution_count": 9,
   "metadata": {},
   "outputs": [],
   "source": [
    "extract_urls = docs.values_list('edgardocumentcontent__urls', flat=True)"
   ]
  },
  {
   "cell_type": "code",
   "execution_count": 10,
   "metadata": {},
   "outputs": [],
   "source": [
    "from toolz import filter, accumulate\n",
    "\n",
    "def compact(iter):\n",
    "    return filter(None, iter)"
   ]
  },
  {
   "cell_type": "code",
   "execution_count": 11,
   "metadata": {},
   "outputs": [
    {
     "data": {
      "text/plain": [
       "[['http://www.3m.com/3M/en_US/suppliers-direct/supplier-requirements/supplier-responsibility-expectations/&#160',\n",
       "  'http://www.3m.com/3M/en_US/suppliers-direct/supplier-requirements/supplier-responsibility-expectations/',\n",
       "  'http://www.3m.com/3M/en_US/suppliers-direct/supplier-requirements/supplier-responsibility-expectations/).'],\n",
       " ['http://www.3m.com/3M/en_US/suppliers-direct/supplier-requirements/supplier-responsibility-expectations/',\n",
       "  'http://www.3m.com/3M/en_US/suppliers-direct/supplier-requirements/supplier-responsibility-expectations/).'],\n",
       " ['http://www.3m.com/3M/en_US/suppliers-direct/supplier-requirements/supplier-responsibility-expectations/&#160']]"
      ]
     },
     "execution_count": 11,
     "metadata": {},
     "output_type": "execute_result"
    }
   ],
   "source": [
    "compacted = list(compact(extract_urls))\n",
    "compacted"
   ]
  },
  {
   "cell_type": "code",
   "execution_count": 12,
   "metadata": {},
   "outputs": [
    {
     "data": {
      "text/plain": [
       "['http://www.3m.com/3M/en_US/suppliers-direct/supplier-requirements/supplier-responsibility-expectations/&#160',\n",
       " 'http://www.3m.com/3M/en_US/suppliers-direct/supplier-requirements/supplier-responsibility-expectations/',\n",
       " 'http://www.3m.com/3M/en_US/suppliers-direct/supplier-requirements/supplier-responsibility-expectations/).',\n",
       " 'http://www.3m.com/3M/en_US/suppliers-direct/supplier-requirements/supplier-responsibility-expectations/',\n",
       " 'http://www.3m.com/3M/en_US/suppliers-direct/supplier-requirements/supplier-responsibility-expectations/).',\n",
       " 'http://www.3m.com/3M/en_US/suppliers-direct/supplier-requirements/supplier-responsibility-expectations/&#160']"
      ]
     },
     "execution_count": 12,
     "metadata": {},
     "output_type": "execute_result"
    }
   ],
   "source": [
    "from itertools import chain\n",
    "flattened = list(chain.from_iterable(compacted))\n",
    "flattened"
   ]
  },
  {
   "cell_type": "code",
   "execution_count": 13,
   "metadata": {},
   "outputs": [
    {
     "data": {
      "text/plain": [
       "['http://www.3m.com/3M/en_US/suppliers-direct/supplier-requirements/supplier-responsibility-expectations/&#160',\n",
       " 'http://www.3m.com/3M/en_US/suppliers-direct/supplier-requirements/supplier-responsibility-expectations/',\n",
       " 'http://www.3m.com/3M/en_US/suppliers-direct/supplier-requirements/supplier-responsibility-expectations/).']"
      ]
     },
     "execution_count": 13,
     "metadata": {},
     "output_type": "execute_result"
    }
   ],
   "source": [
    "list(toolz.unique(flattened))"
   ]
  },
  {
   "cell_type": "code",
   "execution_count": 14,
   "metadata": {},
   "outputs": [
    {
     "data": {
      "text/plain": [
       "['http://www.3m.com/3M/en_US/suppliers-direct/supplier-requirements/supplier-responsibility-expectations/&#160',\n",
       " 'http://www.3m.com/3M/en_US/suppliers-direct/supplier-requirements/supplier-responsibility-expectations/',\n",
       " 'http://www.3m.com/3M/en_US/suppliers-direct/supplier-requirements/supplier-responsibility-expectations/).']"
      ]
     },
     "execution_count": 14,
     "metadata": {},
     "output_type": "execute_result"
    }
   ],
   "source": [
    "filing.extracted_urls"
   ]
  },
  {
   "cell_type": "markdown",
   "metadata": {},
   "source": [
    "### Investigate WestRock (and others)\n",
    "NUCOR CORP, Owens Corning, NOVARTIS AG, James Hardie Industries plc, GENERAL DYNAMICS CORP, ESTEE LAUDER COMPANIES INC, ALBEMARLE CORP"
   ]
  },
  {
   "cell_type": "code",
   "execution_count": 16,
   "metadata": {
    "collapsed": true
   },
   "outputs": [],
   "source": [
    "filing = EdgarSDFiling.objects.get(pk=775)"
   ]
  },
  {
   "cell_type": "code",
   "execution_count": 19,
   "metadata": {},
   "outputs": [
    {
     "data": {
      "text/plain": [
       "<QuerySet [<EdgarSDFilingDocument: WestRock Co - 2016 (SD) - 0001171843-16-010390.txt>, <EdgarSDFilingDocument: WestRock Co - 2016 (SD) - exh_101.htm>, <EdgarSDFilingDocument: WestRock Co - 2016 (SD) - fsd_053116.htm>]>"
      ]
     },
     "execution_count": 19,
     "metadata": {},
     "output_type": "execute_result"
    }
   ],
   "source": [
    "docs = filing.edgarsdfilingdocument_set.all()\n",
    "docs"
   ]
  },
  {
   "cell_type": "code",
   "execution_count": 30,
   "metadata": {},
   "outputs": [
    {
     "name": "stdout",
     "output_type": "stream",
     "text": [
      "[]\n",
      "[]\n",
      "[]\n",
      "[]\n"
     ]
    }
   ],
   "source": [
    "all_urls = []\n",
    "for doc in docs:\n",
    "    try:\n",
    "        # Get the doc content\n",
    "        doc_content = doc.edgardocumentcontent_set.get()\n",
    "    except EdgarDocumentContent.DoesNotExist:\n",
    "        continue\n",
    "    content = doc_content.content\n",
    "    if content:\n",
    "        extractor = URLExtract()\n",
    "        urls = extractor.find_urls(content)\n",
    "        print(urls)\n",
    "        if urls:\n",
    "            all_urls.extend(urls)\n",
    "unique_urls = toolz.unique(all_urls)\n",
    "print(list(unique_urls))"
   ]
  },
  {
   "cell_type": "code",
   "execution_count": 107,
   "metadata": {},
   "outputs": [
    {
     "name": "stdout",
     "output_type": "stream",
     "text": [
      "['www.westrock.com', 'www.westrock.com', 'www.westrock.com']\n",
      "['www.westrock.com', 'www.westrock.com']\n",
      "['www.westrock.com']\n",
      "['www.westrock.com']\n"
     ]
    }
   ],
   "source": [
    "all_urls = []\n",
    "for doc in docs:\n",
    "    try:\n",
    "        # Get the doc content\n",
    "        doc_content = doc.edgardocumentcontent_set.get()\n",
    "    except EdgarDocumentContent.DoesNotExist:\n",
    "        continue\n",
    "    content = doc_content.content\n",
    "    if content:\n",
    "        extractor = URLExtract()\n",
    "        urls = extractor.find_urls(content.replace('.com.', '.com'))\n",
    "        print(urls)\n",
    "        if urls:\n",
    "            all_urls.extend(urls)\n",
    "unique_urls = toolz.unique(all_urls)\n",
    "print(list(unique_urls))"
   ]
  },
  {
   "cell_type": "code",
   "execution_count": null,
   "metadata": {
    "collapsed": true
   },
   "outputs": [],
   "source": []
  }
 ],
 "metadata": {
  "kernelspec": {
   "display_name": "Django Shell-Plus",
   "language": "python",
   "name": "django_extensions"
  },
  "language_info": {
   "codemirror_mode": {
    "name": "ipython",
    "version": 3
   },
   "file_extension": ".py",
   "mimetype": "text/x-python",
   "name": "python",
   "nbconvert_exporter": "python",
   "pygments_lexer": "ipython3",
   "version": "3.6.1"
  }
 },
 "nbformat": 4,
 "nbformat_minor": 2
}
